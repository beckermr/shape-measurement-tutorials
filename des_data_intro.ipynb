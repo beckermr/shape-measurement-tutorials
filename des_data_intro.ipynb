{
 "cells": [
  {
   "cell_type": "markdown",
   "id": "9a9cc274",
   "metadata": {},
   "source": [
    "# An Introduction to Dark Energy Survey Data Wrangling\n",
    "\n",
    "This notebook contains an introduct to the various concepts and tools that are useful for using and understanding data from the Dark Energy Survey (DES). \n",
    "\n",
    "Some assumptions and prerequisites:\n",
    "\n",
    "1. I am assuming that you have access to data downloaded from DES Data Management (DESDM) in the form of coadd tile data and inputs used for building \"pizza slice\" coadd MEDS files. However, even if you don't have the data in this form locally, you can still use the information in this tutorial.\n",
    "\n",
    "2. The data formats here are specific to the Year 6 DES data reductions. Previous years are similar, but not identical.\n",
    "\n",
    "3. You will need the following python packages installed locally: `fitsio`, `pyyaml`, `esutil`, `matplotlib`, and `numpy`. Your best bet is to use `conda` to install them via `conda install fitsio pyyaml esutil matplotlib numpy`."
   ]
  },
  {
   "cell_type": "code",
   "execution_count": 1,
   "id": "6041f640",
   "metadata": {},
   "outputs": [],
   "source": [
    "import os\n",
    "import fitsio\n",
    "import yaml\n",
    "import esutil\n",
    "import numpy as np\n",
    "\n",
    "import matplotlib.pyplot as plt"
   ]
  },
  {
   "cell_type": "markdown",
   "id": "122192aa",
   "metadata": {},
   "source": [
    "## Getting Started\n",
    "\n",
    "Before we dig into the images and associated metadata, we need to know where it is. For this purpose, I have created special YAML files that have all of the paths and other information you need in them. \n",
    "\n",
    "You can find them on `phoenix` here:\n",
    "\n",
    "```\n",
    "/cosmo/scratch/mrbecker/MEDS_DIR/des-pizza-slices-y6-v8/pizza_cutter_info\n",
    "```\n",
    "\n",
    "Each file has a name that looks like \n",
    "\n",
    "```\n",
    "<coadd tilename>_<band>_pizza_cutter_info.yaml\n",
    "```\n",
    "\n",
    "In the DES, the coadd tilenames are things like `DES0124-3332` and the band is a single character (e.g., one of `g`, `r`, `i`, `z`, etc.). So for example, you'd find the file:\n",
    "\n",
    "```\n",
    "/cosmo/scratch/mrbecker/MEDS_DIR/des-pizza-slices-y6-v8/pizza_cutter_info/DES0124-3332_i_pizza_cutter_info.yaml\n",
    "```\n",
    "\n",
    "For band `i` and coadd tile `DES0124-3332`.\n",
    "\n",
    "Loading them into python is straight forward like this:"
   ]
  },
  {
   "cell_type": "code",
   "execution_count": 2,
   "id": "f8902d96",
   "metadata": {},
   "outputs": [],
   "source": [
    "meds_dir = \"/cosmo/scratch/mrbecker/MEDS_DIR\"\n",
    "tilename = \"DES0124-3332\"\n",
    "band = \"i\"\n",
    "yaml_pth = os.path.join(\n",
    "    meds_dir, \n",
    "    \"des-pizza-slices-y6-v8/pizza_cutter_info/%s_%s_pizza_cutter_info.yaml\" % (\n",
    "        tilename, band\n",
    "    )\n",
    ")\n",
    "\n",
    "with open(yaml_pth, \"r\") as fp:\n",
    "    info = yaml.safe_load(fp.read())"
   ]
  },
  {
   "cell_type": "markdown",
   "id": "10dcc383",
   "metadata": {},
   "source": [
    "This dictionary has two major parts. First, it has a set of top-level keys that hold data for the coadd image. Second, it has a `src_info` key which holds a list of dictionaries. The dicts in this list hold information for the single epoch images that get combined into the coadd. Let's take a quick look:"
   ]
  },
  {
   "cell_type": "code",
   "execution_count": 3,
   "id": "ee9cf362",
   "metadata": {},
   "outputs": [
    {
     "name": "stdout",
     "output_type": "stream",
     "text": [
      "coadd info:\n",
      "    band: i\n",
      "    bmask_ext: msk\n",
      "    bmask_path: $MEDS_DIR/des-pizza-slices-y6-v8/DES0124-3332/sources-i/OPS/multiepoch/Y6A1/r4907/DES0124-3332/p01/coadd/DES0124-3332_r4907p01_i.fits.fz\n",
      "    cat_path: $MEDS_DIR/des-pizza-slices-y6-v8/DES0124-3332/sources-i/OPS/multiepoch/Y6A1/r4907/DES0124-3332/p01/cat/DES0124-3332_r4907p01_i_cat.fits\n",
      "    compression: .fz\n",
      "    crossra0: N\n",
      "    filename: DES0124-3332_r4907p01_i.fits\n",
      "    gaia_stars_file: $MEDS_DIR/des-pizza-slices-y6-v8/DES0124-3332/sources-i/OPS/cal/cat_tile_gaia/v1/DES0124-3332_GAIA_DR2_v1.fits\n",
      "    image_ext: sci\n",
      "    image_flags: 0\n",
      "    image_path: $MEDS_DIR/des-pizza-slices-y6-v8/DES0124-3332/sources-i/OPS/multiepoch/Y6A1/r4907/DES0124-3332/p01/coadd/DES0124-3332_r4907p01_i.fits.fz\n",
      "    image_shape: [10000, 10000]\n",
      "    magzp: 30.0\n",
      "    path: OPS/multiepoch/Y6A1/r4907/DES0124-3332/p01/coadd\n",
      "    pfw_attempt_id: 2828855\n",
      "    position_offset: 1\n",
      "    psf_path: $MEDS_DIR/des-pizza-slices-y6-v8/DES0124-3332/sources-i/OPS/multiepoch/Y6A1/r4907/DES0124-3332/p01/psf/DES0124-3332_r4907p01_i_psfcat.psf\n",
      "    scale: 1.0\n",
      "    seg_ext: sci\n",
      "    seg_path: $MEDS_DIR/des-pizza-slices-y6-v8/DES0124-3332/sources-i/OPS/multiepoch/Y6A1/r4907/DES0124-3332/p01/seg/DES0124-3332_r4907p01_i_segmap.fits\n",
      "    tilename: DES0124-3332\n",
      "    udecmax: -33.179167\n",
      "    udecmin: -33.893056\n",
      "    uramax: 21.628838\n",
      "    uramin: 20.772382\n",
      "    weight_ext: wgt\n",
      "    weight_path: $MEDS_DIR/des-pizza-slices-y6-v8/DES0124-3332/sources-i/OPS/multiepoch/Y6A1/r4907/DES0124-3332/p01/coadd/DES0124-3332_r4907p01_i.fits.fz\n"
     ]
    }
   ],
   "source": [
    "print(\"coadd info:\")\n",
    "for k, v in info.items():\n",
    "    if k == \"src_info\":\n",
    "        continue\n",
    "    print(\"    %s: %s\" % (\n",
    "        k,\n",
    "        v.replace(meds_dir, \"$MEDS_DIR\") if isinstance(v, str) else v,\n",
    "    ))"
   ]
  },
  {
   "cell_type": "markdown",
   "id": "7d1763bd",
   "metadata": {},
   "source": [
    "Here is what is in there for a single image:"
   ]
  },
  {
   "cell_type": "code",
   "execution_count": 4,
   "id": "62c372e0",
   "metadata": {},
   "outputs": [
    {
     "name": "stdout",
     "output_type": "stream",
     "text": [
      "single-epoch image 0:\n",
      "    band: i\n",
      "    bkg_ext: sci\n",
      "    bkg_path: $MEDS_DIR/des-pizza-slices-y6-v8/DES0124-3332/sources-i/OPS/finalcut/Y5A1/r3630/20161219/D00602600/p01/red/bkg/D00602600_i_c04_r3630p01_bkg.fits.fz\n",
      "    bmask_ext: msk\n",
      "    bmask_path: $MEDS_DIR/des-pizza-slices-y6-v8/DES0124-3332/sources-i/OPS/finalcut/Y5A1/r3630/20161219/D00602600/p01/red/immask/D00602600_i_c04_r3630p01_immasked.fits.fz\n",
      "    ccdnum: 4\n",
      "    compression: .fz\n",
      "    expnum: 602600\n",
      "    filename: D00602600_i_c04_r3630p01_immasked.fits\n",
      "    head_path: $MEDS_DIR/des-pizza-slices-y6-v8/DES0124-3332/sources-i/OPS/multiepoch/Y6A1/r4907/DES0124-3332/p01/aux/DES0124-3332_r4907p01_D00602600_i_c04_scamp.ohead\n",
      "    image_ext: sci\n",
      "    image_flags: 0\n",
      "    image_path: $MEDS_DIR/des-pizza-slices-y6-v8/DES0124-3332/sources-i/OPS/finalcut/Y5A1/r3630/20161219/D00602600/p01/red/immask/D00602600_i_c04_r3630p01_immasked.fits.fz\n",
      "    image_shape: [4096, 2048]\n",
      "    magzp: 31.62564468383789\n",
      "    path: OPS/finalcut/Y5A1/r3630/20161219/D00602600/p01/red/immask\n",
      "    pfw_attempt_id: 2828855\n",
      "    piff_path: $MEDS_DIR/des-pizza-slices-y6-v8/DES0124-3332/sources-i/OPS/finalcut/Y6A1_PIFF/20161219-r5022/D00602600/p01/psf/D00602600_i_c04_r5022p01_piff-model.fits\n",
      "    position_offset: 1\n",
      "    psf_path: $MEDS_DIR/des-pizza-slices-y6-v8/DES0124-3332/sources-i/OPS/finalcut/Y5A1/r3630/20161219/D00602600/p01/psf/D00602600_i_c04_r3630p01_psfexcat.psf\n",
      "    psfex_path: $MEDS_DIR/des-pizza-slices-y6-v8/DES0124-3332/sources-i/OPS/finalcut/Y5A1/r3630/20161219/D00602600/p01/psf/D00602600_i_c04_r3630p01_psfexcat.psf\n",
      "    scale: 0.22373922348019604\n",
      "    seg_path: $MEDS_DIR/des-pizza-slices-y6-v8/DES0124-3332/sources-i/OPS/finalcut/Y5A1/r3630/20161219/D00602600/p01/seg/D00602600_i_c04_r3630p01_segmap.fits.fz\n",
      "    tilename: DES0124-3332\n",
      "    weight_ext: wgt\n",
      "    weight_path: $MEDS_DIR/des-pizza-slices-y6-v8/DES0124-3332/sources-i/OPS/finalcut/Y5A1/r3630/20161219/D00602600/p01/red/immask/D00602600_i_c04_r3630p01_immasked.fits.fz\n"
     ]
    }
   ],
   "source": [
    "print(\"single-epoch image 0:\")\n",
    "for k, v in info[\"src_info\"][0].items():\n",
    "    if k == \"src_info\":\n",
    "        continue\n",
    "    print(\"    %s: %s\" % (\n",
    "        k,\n",
    "        v.replace(meds_dir, \"$MEDS_DIR\") if isinstance(v, str) else v,\n",
    "    ))"
   ]
  },
  {
   "cell_type": "markdown",
   "id": "3521c277",
   "metadata": {},
   "source": [
    "The meaning of many of these keys won't be clear until we walk about the data itself a bit more, which we do next."
   ]
  },
  {
   "cell_type": "markdown",
   "id": "865c9528",
   "metadata": {},
   "source": [
    "## What is in DES data anyways?\n",
    "\n",
    "DES data has several main parts/ideas, some of which I have already hinted at. They are\n",
    "\n",
    " - **exposure**: A single opening and closing of the shutter of the telescope. All CCDs on the telescope take\n",
    "   an image during a single exposure.\n",
    " - **ccd number**: A numerical identifier for each DECam CCD.\n",
    " - **band**: The passband filter used for a givne exposure. These filters allow us to only measure certain colors \n",
    "   of light in a single exposure.\n",
    " - **single-epoch images**: The output image from a single DECam CCD for a single exposure and band. \n",
    "   Every single-epoch image is tagged with exposure and CCD number.\n",
    " - **final-cut image**: A single-epoch image that has been fully calibrated and processed by the DES pipelines. \n",
    "   You will almost always be using a final-cut image. These are used as inputs to the image coadding process.\n",
    " - **coadd images**: These are images computed by taking a weighted average of all of the final-cut images that \n",
    "   intersect a given region of the sky. \n",
    " - **coadd tile**: In the DES, a coadd image is formed for every coadd tile. The coadd tile sets the location of the \n",
    "   10kx10k coadd image. As implied by the name, the coadd tiles \"tile\" the entire sky so that every positions falls in \n",
    "   a coadd tile. Coadd tiles have overlaps on the edges. These need to be cut away at the end of the coadding process.\n",
    " - **world coordinate system**: The world coordinate system or WCS is a coordinate transform that maps each possible \n",
    "   position in an image to a point on the sphere. This mapping is unique (one-to-one and onto) in the domain covered \n",
    "   by the image.\n",
    " - **bit mask**: The bit mask or \"bmask\" is an image of integers corresponding to every pixel in the final-cut image.\n",
    "   The different bits in these integers indicate different potential problems or things that happened to that pixel. \n",
    "   Usually, but not always, you want `bmask == 0` to indicate pixels which are clean.\n",
    " - **weight map**: The weight map is an image of non-negative values corresponding to every pixel in the final-cut \n",
    "   image. These values are the inverse of the variance in each pixel value `v`, `1/Var[v]`. A weight of 0 indicates a \n",
    "   pixel with infinite variance (so unusable data). Conversely, a large weight indicates a low variance pixel.\n",
    " - **background image**: This image, only present for final-cut images, contains the background level in the image and \n",
    "   should be subtracted from the final-cut image before using it.\n",
    " - **segmentation map**: The segementation map or \"seg map\" is an image of integers, one for each pixel, produced \n",
    "   by the software that finds objects in the images. A value of 0 indicates a \"sky\" pixel (no detected objects). A \n",
    "   value of 1 or greater, indicates a pixel that \"belongs\" to a given object as indicated by the pixel value. Even \n",
    "   though objects can overlap, each pixel is assigned to one and only one object. \n",
    " - **zero point**: Every final-cut image has an estimated zero-point. This quantity is a single scalar value that can \n",
    "   be used to adjust the amplitude of the image so that every image is in the same units. For the coadd, this zero-\n",
    "   point is defined by hand so that no adjustment is needed. We'll cover how to make the adjustment below."
   ]
  },
  {
   "cell_type": "markdown",
   "id": "36bbfc64",
   "metadata": {},
   "source": [
    "## Reading the Coadd Data\n",
    "\n",
    "Images in the DES are stored in a format called FITS. The details of this format are unimportant. The key facts you need are that \n",
    "\n",
    "1. A FITS file can hold more than one image. \n",
    "2. In the DES, each image is in a named extension.\n",
    "3. A FITS file also has a field for header values. Header values are key-value pairs and generally hold metadata for \n",
    "   the image.\n",
    "   \n",
    "We use a package called `fitsio` to read the images and the headers like this:"
   ]
  },
  {
   "cell_type": "code",
   "execution_count": 5,
   "id": "636050d5",
   "metadata": {},
   "outputs": [],
   "source": [
    "im = fitsio.read(info[\"image_path\"], ext=info[\"image_ext\"])"
   ]
  },
  {
   "cell_type": "markdown",
   "id": "752e8381",
   "metadata": {},
   "source": [
    "The image `im` is the coadd image for this tile:"
   ]
  },
  {
   "cell_type": "code",
   "execution_count": 6,
   "id": "724481d0",
   "metadata": {},
   "outputs": [
    {
     "data": {
      "text/plain": [
       "(10000, 10000)"
      ]
     },
     "execution_count": 6,
     "metadata": {},
     "output_type": "execute_result"
    }
   ],
   "source": [
    "im.shape"
   ]
  },
  {
   "cell_type": "markdown",
   "id": "55595a70",
   "metadata": {},
   "source": [
    "You can see that it is 10k x 10k pixels. Let's make a plot."
   ]
  },
  {
   "cell_type": "code",
   "execution_count": 7,
   "id": "77b1ddd4",
   "metadata": {},
   "outputs": [
    {
     "data": {
      "text/plain": [
       "<matplotlib.image.AxesImage at 0x7f5f22a90f40>"
      ]
     },
     "execution_count": 7,
     "metadata": {},
     "output_type": "execute_result"
    },
    {
     "data": {
      "image/png": "[encoded data removed]",
      "text/plain": [
       "<Figure size 432x288 with 1 Axes>"
      ]
     },
     "metadata": {
      "needs_background": "light"
     },
     "output_type": "display_data"
    }
   ],
   "source": [
    "fig, axs = plt.subplots()\n",
    "axs.imshow(np.arcsinh(im))"
   ]
  },
  {
   "cell_type": "markdown",
   "id": "d7aa90d8",
   "metadata": {},
   "source": [
    "The general pattern for reading the rest of the images is the same."
   ]
  },
  {
   "cell_type": "code",
   "execution_count": 8,
   "id": "b5797e40",
   "metadata": {},
   "outputs": [],
   "source": [
    "im = fitsio.read(info[\"image_path\"], ext=info[\"image_ext\"])\n",
    "seg = fitsio.read(info[\"seg_path\"], ext=info[\"seg_ext\"])\n",
    "wgt = fitsio.read(info[\"weight_path\"], ext=info[\"weight_ext\"])\n",
    "bmask = fitsio.read(info[\"bmask_path\"], ext=info[\"bmask_ext\"])"
   ]
  },
  {
   "cell_type": "markdown",
   "id": "1e0ac406",
   "metadata": {},
   "source": [
    "Note the correspondence between the name of the key in the dictionary and the data product name (e.g., the seg map is called `seg_*`, the bit mask is called `bmask_*` etc.). Here is what they look like:"
   ]
  },
  {
   "cell_type": "code",
   "execution_count": null,
   "id": "9303b182",
   "metadata": {},
   "outputs": [
    {
     "data": {
      "text/plain": [
       "Text(0.5, 1.0, 'bit mask')"
      ]
     },
     "execution_count": 9,
     "metadata": {},
     "output_type": "execute_result"
    }
   ],
   "source": [
    "fig, axs = plt.subplots(nrows=2, ncols=2, sharex='all', sharey='all', figsize=(10, 10))\n",
    "axs[0, 0].imshow(np.arcsinh(im))\n",
    "axs[0, 0].set_title(\"image\")\n",
    "axs[0, 1].imshow(seg)\n",
    "axs[0, 1].set_title(\"segmentation map\")\n",
    "axs[1, 0].imshow(np.arcsinh(wgt))\n",
    "axs[1, 0].set_title(\"weight map\")\n",
    "axs[1, 1].imshow(bmask)\n",
    "axs[1, 1].set_title(\"bit mask\")"
   ]
  },
  {
   "cell_type": "markdown",
   "id": "ddebba84",
   "metadata": {},
   "source": [
    "## Reading the Single-epoch/Final-cut Data\n",
    "\n",
    "Remember above we said that a coadd image formed from a sum of final-cut images. Each of these final-cut images is an image from a single CCD. \n",
    "\n",
    "The information for these images is stored in the `src_info` key. This key is a list of dictionaries, each dictionary with similar keys giving the information on the different image products.\n",
    "\n",
    "So for our curren tile, we can get the number of single-epoch images that feed into via:"
   ]
  },
  {
   "cell_type": "code",
   "execution_count": null,
   "id": "6e69fc2d",
   "metadata": {},
   "outputs": [],
   "source": [
    "len(info['src_info'])"
   ]
  },
  {
   "cell_type": "markdown",
   "id": "40a1288a",
   "metadata": {},
   "source": [
    "To examine the first image, you grab the entry in this list at the proper index value. Note the index value is one less than the place of the image in the list."
   ]
  },
  {
   "cell_type": "code",
   "execution_count": null,
   "id": "8a0cc60d",
   "metadata": {},
   "outputs": [],
   "source": [
    "print(info['src_info'][0])"
   ]
  },
  {
   "cell_type": "markdown",
   "id": "ccfce8b6",
   "metadata": {},
   "source": [
    "We can get the exposure number, ccd number and other useful information like this:"
   ]
  },
  {
   "cell_type": "code",
   "execution_count": null,
   "id": "018e5326",
   "metadata": {},
   "outputs": [],
   "source": [
    "si = info['src_info'][0]\n",
    "print(\"exposure:\", si['expnum'])\n",
    "print(\"ccd:\", si['ccdnum'])\n",
    "print(\"band:\", si['band'])"
   ]
  },
  {
   "cell_type": "markdown",
   "id": "e1410be9",
   "metadata": {},
   "source": [
    "When reading and use the final-cut images, we have to make a series of transformations before they are ready. \n",
    "\n",
    "1. We need to subtract the background image.\n",
    "2. We need to apply the zero-point, which involves multiplying by the `scale` entry. This has to happen for both the \n",
    "   image and the weight map. For the weight map, we divide by `scale**2` since it is `1/variance` and so has units of \n",
    "   `1/image**2`.\n",
    "\n",
    "Here is an example."
   ]
  },
  {
   "cell_type": "code",
   "execution_count": null,
   "id": "a0c4dac0",
   "metadata": {},
   "outputs": [],
   "source": [
    "# first we read in the data\n",
    "raw_se_im = fitsio.read(si[\"image_path\"], ext=si[\"image_ext\"])\n",
    "bkg_im = fitsio.read(si[\"bkg_path\"], ext=si[\"bkg_ext\"])\n",
    "raw_se_wgt = fitsio.read(si[\"weight_path\"], ext=si[\"weight_ext\"])\n",
    "se_bmask = fitsio.read(si[\"bmask_path\"], ext=si[\"bmask_ext\"])\n",
    "\n",
    "# now subtract the background\n",
    "se_im = raw_se_im - bkg_im\n",
    "\n",
    "# and apply the scale\n",
    "scale = si['scale']\n",
    "se_im = se_im * scale\n",
    "se_wgt = raw_se_wgt / scale**2"
   ]
  },
  {
   "cell_type": "markdown",
   "id": "1c26b312",
   "metadata": {},
   "source": [
    "Finally, let's plot the data."
   ]
  },
  {
   "cell_type": "code",
   "execution_count": null,
   "id": "1c99e49c",
   "metadata": {},
   "outputs": [],
   "source": [
    "fig, axs = plt.subplots(nrows=2, ncols=2, sharex='all', sharey='all', figsize=(10, 20))\n",
    "axs[0, 0].imshow(np.arcsinh(se_im))\n",
    "axs[0, 0].set_title(\"image\")\n",
    "axs[0, 1].imshow(bkg_im)\n",
    "axs[0, 1].set_title(\"background\")\n",
    "axs[1, 0].imshow(np.arcsinh(se_wgt))\n",
    "axs[1, 0].set_title(\"weight map\")\n",
    "axs[1, 1].imshow(se_bmask)\n",
    "axs[1, 1].set_title(\"bit mask\")"
   ]
  },
  {
   "cell_type": "markdown",
   "id": "9740c7fe",
   "metadata": {},
   "source": [
    "## Mapping Image Pixels to the Sky\n",
    "\n",
    "In this section, I will cover how to compute the location on the sky (e.g., the right ascension and declination) from the index of the image pixel. You'll want to read a bit about right ascension and declination, colloquially called `ra` and `dec` [here](https://skyandtelescope.org/astronomy-resources/right-ascension-declination-celestial-coordinates/).\n",
    "\n",
    "The thing that converts pixels to `ra` and `dec` is called the world coordinate system or WCS. For DES images, a version of the WCS is stored in the FITS headers of the images. In the case of the coadd image, the WCS is exact. Stated differently, the coadd WCS defines the coordinates in which we average the different single-epoch images together. We can choose this coordinate and can specify it exactly. (The details of how we do this are not terribly important.) For a single-epoch image, the WCS is the result of a fitting procedure applied to the image. It will have errors in it, but those are unimportant for our purposes. Importantly, every image has a unique WCS. Make sure to use the WCS that comes from the image you are using! Finally, there are a lot of details about the WCS that I am glossiblg over here having to do with various factors beyond our control (e.g., the precession of the earth, etc.). \n",
    "\n",
    "To read the WCS, you can use the following function:"
   ]
  },
  {
   "cell_type": "code",
   "execution_count": null,
   "id": "e15ba733",
   "metadata": {},
   "outputs": [],
   "source": [
    "def read_wcs(pth, ext=0):\n",
    "    hdr = fitsio.read_header(pth, ext=ext)\n",
    "    dct = {}\n",
    "    for k in hdr.keys():\n",
    "        try:\n",
    "            dct[k.lower()] = hdr[k]\n",
    "        except Exception:\n",
    "            pass\n",
    "    return esutil.wcsutil.WCS(dct)"
   ]
  },
  {
   "cell_type": "markdown",
   "id": "f44c1e41",
   "metadata": {},
   "source": [
    "This function returns a WCS object from the `esutil` package. It has two methods of interest, `image2sky` and `sky2image`. These functions convert from the image pixel coordinates to `ra` and `dec` on the sky. \n",
    "\n",
    "One important detail here is that image pixel coordinates are offset by 1 from the image pixel indices. So, for example, the pixel at index `(y=0, x=0)` in the image is at image coordinate location `(x=1, y=1)`. The change in ordering in the arguments is important. To compute the `ra` and `dec` of this pixel, you would do the following:"
   ]
  },
  {
   "cell_type": "code",
   "execution_count": null,
   "id": "09dc9e23",
   "metadata": {},
   "outputs": [],
   "source": [
    "coadd_wcs = read_wcs(info['image_path'], ext=info['image_ext'])\n",
    "ra, dec = coadd_wcs.image2sky(x=1, y=1)\n",
    "print(ra, dec)"
   ]
  },
  {
   "cell_type": "markdown",
   "id": "56232ea7",
   "metadata": {},
   "source": [
    "We will always work with `ra` and `dec` in degrees.\n",
    "\n",
    "We can get the WCS for a single-epoch image in a similar way:"
   ]
  },
  {
   "cell_type": "code",
   "execution_count": null,
   "id": "d796219b",
   "metadata": {},
   "outputs": [],
   "source": [
    "si = info['src_info'][0]\n",
    "se_wcs = read_wcs(si['image_path'], ext=si['image_ext'])"
   ]
  },
  {
   "cell_type": "markdown",
   "id": "2586655b",
   "metadata": {},
   "source": [
    "## Mapping Single-epoch Pixels to Coadd Pixels.\n",
    "\n",
    "Sometimes it is useful to map a single epoch pixel location to its location in the coadd image. This task can be done by first mapping the single epoch location to ra,dec, and then mapping ra,dec to the coadd pixel location. Finally, to get the image value, we will find the nearest coadd pixel and use that one. (There are other ways to do this, but nearest pixel is more than good enough for now.) Here is what this looks like in code."
   ]
  },
  {
   "cell_type": "code",
   "execution_count": null,
   "id": "dbf64318",
   "metadata": {},
   "outputs": [],
   "source": [
    "# these are the pixel coordinates\n",
    "x_se = np.array([2, 10])\n",
    "y_se = np.array([34, 56])\n",
    "\n",
    "# map to ra, dec\n",
    "ra, dec = se_wcs.image2sky(x=x_se, y=y_se)\n",
    "\n",
    "# now map back to coadd pixel coordinates\n",
    "x_c, y_c = coadd_wcs.sky2image(ra, dec)\n",
    "\n",
    "print(\"coadd pixel locations:\", x_c, y_c)\n",
    "\n",
    "# now take nearest pixel\n",
    "x_c = (x_c + 0.5).astype(np.int32)\n",
    "y_c = (y_c + 0.5).astype(np.int32)\n",
    "print(\"nearest coadd pixel locations:\", x_c, y_c)\n",
    "\n",
    "# finally, to get back to the indices into a coadd image, we need to subtract \n",
    "# one per our discussion above\n",
    "x_i = x_c - 1\n",
    "y_i = y_c - 1\n",
    "print(\"nearest coadd image values:\", im[y_i, x_i])"
   ]
  },
  {
   "cell_type": "code",
   "execution_count": null,
   "id": "41f4b9f5",
   "metadata": {},
   "outputs": [],
   "source": []
  }
 ],
 "metadata": {
  "kernelspec": {
   "display_name": "Python [conda env:pizza-cutter-sims]",
   "language": "python",
   "name": "conda-env-pizza-cutter-sims-py"
  },
  "language_info": {
   "codemirror_mode": {
    "name": "ipython",
    "version": 3
   },
   "file_extension": ".py",
   "mimetype": "text/x-python",
   "name": "python",
   "nbconvert_exporter": "python",
   "pygments_lexer": "ipython3",
   "version": "3.8.8"
  }
 },
 "nbformat": 4,
 "nbformat_minor": 5
}
